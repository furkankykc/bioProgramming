{
 "cells": [
  {
   "cell_type": "code",
   "execution_count": 7,
   "metadata": {},
   "outputs": [],
   "source": [
    "a= [ 1, 2 , 3, 4, 5]"
   ]
  },
  {
   "cell_type": "code",
   "execution_count": 9,
   "metadata": {},
   "outputs": [
    {
     "name": "stdout",
     "output_type": "stream",
     "text": [
      "2\n"
     ]
    }
   ],
   "source": [
    "print(a[1])"
   ]
  },
  {
   "cell_type": "code",
   "execution_count": 10,
   "metadata": {},
   "outputs": [],
   "source": [
    "some_list=[]"
   ]
  },
  {
   "cell_type": "code",
   "execution_count": 11,
   "metadata": {},
   "outputs": [],
   "source": [
    "some_list.append(\"foo\")"
   ]
  },
  {
   "cell_type": "code",
   "execution_count": 13,
   "metadata": {},
   "outputs": [],
   "source": [
    "some_list.append(2)"
   ]
  },
  {
   "cell_type": "code",
   "execution_count": 14,
   "metadata": {},
   "outputs": [
    {
     "name": "stdout",
     "output_type": "stream",
     "text": [
      "['foo', 2]\n"
     ]
    }
   ],
   "source": [
    "print(some_list)"
   ]
  },
  {
   "cell_type": "raw",
   "metadata": {},
   "source": [
    "print(len(some_list))"
   ]
  },
  {
   "cell_type": "code",
   "execution_count": 19,
   "metadata": {},
   "outputs": [],
   "source": [
    "a = ['spam', 'eggs', 100, 1234, 2*2]\n"
   ]
  },
  {
   "cell_type": "code",
   "execution_count": 21,
   "metadata": {},
   "outputs": [
    {
     "data": {
      "text/plain": [
       "'spam'"
      ]
     },
     "execution_count": 21,
     "metadata": {},
     "output_type": "execute_result"
    }
   ],
   "source": [
    "a[0]\n"
   ]
  },
  {
   "cell_type": "code",
   "execution_count": 22,
   "metadata": {},
   "outputs": [
    {
     "data": {
      "text/plain": [
       "['spam', 'eggs']"
      ]
     },
     "execution_count": 22,
     "metadata": {},
     "output_type": "execute_result"
    }
   ],
   "source": [
    "a[:2] \n"
   ]
  },
  {
   "cell_type": "code",
   "execution_count": 23,
   "metadata": {},
   "outputs": [],
   "source": [
    "a[2] = a[2] + 23\n"
   ]
  },
  {
   "cell_type": "code",
   "execution_count": 24,
   "metadata": {},
   "outputs": [],
   "source": [
    "a[0:2] = [1,12]\n"
   ]
  },
  {
   "cell_type": "code",
   "execution_count": 25,
   "metadata": {},
   "outputs": [],
   "source": [
    "a[0:0] = []\n"
   ]
  },
  {
   "cell_type": "code",
   "execution_count": 27,
   "metadata": {},
   "outputs": [
    {
     "data": {
      "text/plain": [
       "5"
      ]
     },
     "execution_count": 27,
     "metadata": {},
     "output_type": "execute_result"
    }
   ],
   "source": [
    "len(a)"
   ]
  },
  {
   "cell_type": "code",
   "execution_count": 2,
   "metadata": {},
   "outputs": [
    {
     "name": "stdout",
     "output_type": "stream",
     "text": [
      "Ligated oligos ATTCGTCGAT\n",
      "Tandem repeat ATTCGATTCGATTCGATTCGATTCGATTCG\n",
      "Polynucleotide run AAAAAAAAAAAAAAAAAAAA\n",
      "Uppercase GCATGACGTTATTACGACTCTGTGTGGCGTCTGCTGGG\n",
      "Number of Adenine 5\n",
      "Position of first Thymine 3\n",
      "Position of first Thymine 34\n",
      "As RNA gcaugacguuauuacgacucuguguggcgucugcuggg\n"
     ]
    }
   ],
   "source": [
    "# DNA is cool!\n",
    "dna_sequence = 'gcatgacgttattacgactctgtgtggcgtctgctggg'\n",
    "oligo1 = 'ATTCG'\n",
    "oligo2 = 'TCGAT'\n",
    "\n",
    "# Compute dependent values, using arithmetic and string methods\n",
    "ligated_oligos = oligo1 + oligo2\n",
    "tandem_repeat = oligo1*6\n",
    "polya = 'A'*20\n",
    "in_uppercase_symbols = dna_sequence.upper()\n",
    "NumberOfA = dna_sequence.count('a')\n",
    "PositionOfT = dna_sequence.find('t')\n",
    "PositionOfTGGG = dna_sequence.find('tggg')\n",
    "rna_sequence = dna_sequence.replace('t','u')\n",
    "\n",
    "# Output results\n",
    "print(\"Ligated oligos\",ligated_oligos)\n",
    "print(\"Tandem repeat\",tandem_repeat) \n",
    "print(\"Polynucleotide run\",polya) \n",
    "print(\"Uppercase\",in_uppercase_symbols) \n",
    "print(\"Number of Adenine\",NumberOfA) \n",
    "print(\"Position of first Thymine\",PositionOfT) \n",
    "print(\"Position of first TGGG\",PositionOfTGGG) \n",
    "print(\"As RNA\",rna_sequence)\n"
   ]
  },
  {
   "cell_type": "code",
   "execution_count": 4,
   "metadata": {},
   "outputs": [
    {
     "name": "stdout",
     "output_type": "stream",
     "text": [
      "Sequence without initial Met: gcatgacgttattacgactctgtgtggcgtctgctggg\n"
     ]
    }
   ],
   "source": [
    "# The input DNA sequence\n",
    "seq = 'atggcatgacgttattacgactctgtgtggcgtctgctggg'\n",
    "\n",
    "# Remove the initial Met codon if it is there\n",
    "if seq.startswith('atg'):\n",
    "    print(\"Sequence without initial Met:\",seq[3:])\n",
    "elif seq.startswith(\"aaa\"):\n",
    "    print(\"Sequence starts with a polyA:\",seq[3:])\n",
    "else:\n",
    "    print(\"Sequence (no initial Met):\",seq)\n",
    "\n"
   ]
  },
  {
   "cell_type": "code",
   "execution_count": 19,
   "metadata": {},
   "outputs": [
    {
     "name": "stdout",
     "output_type": "stream",
     "text": [
      "0.00016307830810546875 seconds ---\n"
     ]
    }
   ],
   "source": [
    "\n",
    "def find_stop_codon(seq:str)->int:\n",
    "    # find codons and append to temp list\n",
    "    temp= [seq.find('tag'), seq.find('tga'), seq.find('taa')]\n",
    "    # filter list to only positive integers\n",
    "    # if filtered list is empty assign [-1], which means there is no matches.\n",
    "    temp = [i for i in temp if i >= 0] or [-1]\n",
    "    # return minimum index\n",
    "    return min(temp)\n",
    "import time\n",
    "dna_sequence = \"atggcatgacgttattacgactctgtgtggcgtctgctggg\"\n",
    "\n",
    "start_time = time.time()\n",
    "find_stop_codon(dna_sequence)\n",
    "delta_time = time.time() - start_time\n",
    "print(f\"{delta_time} seconds ---\" )"
   ]
  },
  {
   "cell_type": "code",
   "execution_count": null,
   "metadata": {},
   "outputs": [],
   "source": []
  },
  {
   "cell_type": "code",
   "execution_count": null,
   "metadata": {},
   "outputs": [],
   "source": []
  },
  {
   "cell_type": "code",
   "execution_count": null,
   "metadata": {},
   "outputs": [],
   "source": []
  }
 ],
 "metadata": {
  "kernelspec": {
   "display_name": "Python 3",
   "language": "python",
   "name": "python3"
  },
  "language_info": {
   "codemirror_mode": {
    "name": "ipython",
    "version": 3
   },
   "file_extension": ".py",
   "mimetype": "text/x-python",
   "name": "python",
   "nbconvert_exporter": "python",
   "pygments_lexer": "ipython3",
   "version": "3.8.5"
  }
 },
 "nbformat": 4,
 "nbformat_minor": 4
}
