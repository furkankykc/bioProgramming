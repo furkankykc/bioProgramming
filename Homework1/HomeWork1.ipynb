{
 "cells": [
  {
   "cell_type": "code",
   "execution_count": 9,
   "metadata": {
    "pycharm": {
     "name": "#%%\n"
    }
   },
   "outputs": [],
   "source": [
    "def find_stop_codon(seq:str)->int:\n",
    "    seq = seq.lower()\n",
    "    # find codons and append to temp list\n",
    "    temp = [seq.find('tag'), seq.find('tga'), seq.find('taa')]\n",
    "    # filter list to only positive integers\n",
    "    # if filtered list is empty assign [-1], which means there is no matches.\n",
    "    temp = [i for i in temp if i >= 0] or [-1]\n",
    "    # return minimum index\n",
    "    return min(temp)"
   ]
  },
  {
   "cell_type": "code",
   "execution_count": 10,
   "metadata": {},
   "outputs": [
    {
     "name": "stdout",
     "output_type": "stream",
     "text": [
      "Stop codon is tga, 24 \n"
     ]
    }
   ],
   "source": [
    "dna_sequence = \"gcatcacgttatgtcgactctgtgtgagcgtctgctggg\"\n",
    "stop_codon = find_stop_codon(dna_sequence)\n",
    "print(f\"Stop codon is {dna_sequence[stop_codon:stop_codon+3] or 'not found'}, {stop_codon} \")"
   ]
  },
  {
   "cell_type": "code",
   "execution_count": null,
   "metadata": {},
   "outputs": [],
   "source": []
  }
 ],
 "metadata": {
  "kernelspec": {
   "display_name": "PyCharm (biyoprogramming)",
   "language": "python",
   "name": "pycharm-c482217f"
  },
  "language_info": {
   "codemirror_mode": {
    "name": "ipython",
    "version": 3
   },
   "file_extension": ".py",
   "mimetype": "text/x-python",
   "name": "python",
   "nbconvert_exporter": "python",
   "pygments_lexer": "ipython3",
   "version": "3.8.5"
  }
 },
 "nbformat": 4,
 "nbformat_minor": 1
}
