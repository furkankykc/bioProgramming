{
 "cells": [
  {
   "cell_type": "code",
   "execution_count": 1,
   "outputs": [],
   "source": [
    "import re\n",
    "def show(res: re.Match):\n",
    "    print(f\"'{res.group()}' founded between {res.span()} indexes\" if res else \"Does Not Contain\")\n",
    "\n",
    "def research(pattern:str,seq:str) -> re.Match:\n",
    "    return re.search(re.compile(pattern),seq)"
   ],
   "metadata": {
    "collapsed": false,
    "pycharm": {
     "name": "#%%\n"
    }
   }
  },
  {
   "cell_type": "code",
   "execution_count": 2,
   "outputs": [],
   "source": [
    "str_instance='1 Quick Brown Fox Jumps Over 1 Lazy Dog'"
   ],
   "metadata": {
    "collapsed": false,
    "pycharm": {
     "name": "#%%\n"
    }
   }
  },
  {
   "cell_type": "code",
   "execution_count": 5,
   "outputs": [
    {
     "name": "stdout",
     "output_type": "stream",
     "text": [
      "'' founded between (0, 0) indexes\n",
      "Does Not Contain\n",
      "'Q' founded between (2, 3) indexes\n",
      "Does Not Contain\n",
      "Does Not Contain\n"
     ]
    }
   ],
   "source": [
    "show(research(r'\\s*',str_instance))\n",
    "show(research(r'^[A-Z]+$',str_instance))\n",
    "show(research(r'[A-Z]\\d*',str_instance))\n",
    "show(research(r'^\\d+\\.\\d+$',str_instance))\n",
    "show(research(r'F..x',str_instance))"
   ],
   "metadata": {
    "collapsed": false,
    "pycharm": {
     "name": "#%%\n"
    }
   }
  },
  {
   "cell_type": "code",
   "execution_count": 7,
   "outputs": [
    {
     "data": {
      "text/plain": "'1 Quick Brown Fox Jumps Over 1 Lazy Dog'"
     },
     "execution_count": 7,
     "metadata": {},
     "output_type": "execute_result"
    }
   ],
   "source": [
    "str_instance"
   ],
   "metadata": {
    "collapsed": false,
    "pycharm": {
     "name": "#%%\n"
    }
   }
  }
 ],
 "metadata": {
  "kernelspec": {
   "name": "pycharm-c482217f",
   "language": "python",
   "display_name": "PyCharm (biyoprogramming)"
  },
  "language_info": {
   "codemirror_mode": {
    "name": "ipython",
    "version": 2
   },
   "file_extension": ".py",
   "mimetype": "text/x-python",
   "name": "python",
   "nbconvert_exporter": "python",
   "pygments_lexer": "ipython2",
   "version": "2.7.6"
  }
 },
 "nbformat": 4,
 "nbformat_minor": 0
}