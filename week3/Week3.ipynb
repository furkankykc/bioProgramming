{
 "cells": [
  {
   "cell_type": "code",
   "execution_count": 19,
   "metadata": {},
   "outputs": [
    {
     "name": "stdout",
     "output_type": "stream",
     "text": [
      "computer\n",
      "\n",
      "terminal\n",
      "\n",
      "protein\n",
      "\n",
      "drug\n",
      "writing the first 3 letters to outputfile\n",
      "<_io.TextIOWrapper name='outputfile.txt' mode='w' encoding='cp1252'> com\n",
      "<_io.TextIOWrapper name='outputfile.txt' mode='w' encoding='cp1252'> ter\n",
      "<_io.TextIOWrapper name='outputfile.txt' mode='w' encoding='cp1252'> pro\n",
      "<_io.TextIOWrapper name='outputfile.txt' mode='w' encoding='cp1252'> dru\n",
      "reading from outputfile\n"
     ]
    }
   ],
   "source": [
    "f=open(\"inputfile.txt\",\"r\")\n",
    "for line in f:\n",
    "    print(line)\n",
    "\n",
    "print(\"writing the first 3 letters to outputfile\")\n",
    "f=open(\"inputfile.txt\",\"r\")\n",
    "outputfile=open(\"outputfile.txt\",\"w\")\n",
    "for line in f:\n",
    "    print(outputfile,line[0:3])\n",
    "outputfile.close()\n",
    "\n",
    "print(\"reading from outputfile\")    \n",
    "f2=open(\"outputfile.txt\",\"r\")\n",
    "for line in f2:\n",
    "    print(line)\n",
    "\n",
    "\n",
    "\n",
    "\n",
    "\n",
    "\n",
    "\n",
    "\n",
    "\n",
    "\n"
   ]
  },
  {
   "cell_type": "code",
   "execution_count": 18,
   "metadata": {},
   "outputs": [
    {
     "name": "stdout",
     "output_type": "stream",
     "text": [
      "1\n",
      "3\n",
      "5\n",
      "7\n",
      "9\n"
     ]
    }
   ],
   "source": [
    "a=0\n",
    "while a < 10:\n",
    "    a=a+1\n",
    "    if a % 2 == 0:\n",
    "        continue\n",
    "    else: \n",
    "        print(a)\n",
    "    "
   ]
  },
  {
   "cell_type": "code",
   "execution_count": 12,
   "metadata": {},
   "outputs": [
    {
     "name": "stdout",
     "output_type": "stream",
     "text": [
      "1\n",
      "2\n",
      "3\n",
      "4\n",
      "5\n",
      "6\n",
      "7\n",
      "8\n",
      "9\n",
      "10\n"
     ]
    }
   ],
   "source": [
    "a=0\n",
    "while a < 10:\n",
    "    a=a+1\n",
    "    if a == 0:\n",
    "        pass\n",
    "    else: \n",
    "        print(a)"
   ]
  },
  {
   "cell_type": "code",
   "execution_count": 14,
   "metadata": {},
   "outputs": [
    {
     "name": "stdout",
     "output_type": "stream",
     "text": [
      "52\n"
     ]
    }
   ],
   "source": [
    "def foo(x):\n",
    "    y= x*10 +2\n",
    "    return y\n",
    "\n",
    "print(foo(5))\n",
    "\n",
    "    "
   ]
  },
  {
   "cell_type": "code",
   "execution_count": 16,
   "metadata": {},
   "outputs": [
    {
     "name": "stdout",
     "output_type": "stream",
     "text": [
      "A C D G H I J K X Z\n"
     ]
    }
   ],
   "source": [
    "# An inefficient way to compute intersections\n",
    "\n",
    "a = list(\"ABCDEFGHIJKXYZ\")\n",
    "b = list(\"QRSACDTUGHVIJKXZ\")\n",
    "intersection = []\n",
    "\n",
    "for i in a:\n",
    "  for j in b:\n",
    "     if i == j:\n",
    "        intersection.append(i)\n",
    "\n",
    "print(*intersection)\n",
    "\n",
    "\n"
   ]
  },
  {
   "cell_type": "code",
   "execution_count": 17,
   "metadata": {},
   "outputs": [
    {
     "name": "stdout",
     "output_type": "stream",
     "text": [
      "auto:100\n",
      "hardware:200\n",
      "kitchen:2000\n"
     ]
    }
   ],
   "source": [
    "sales_amount = {\"auto\":100, \"kitchen\":2000, \"hardware\":200}\n",
    "\n",
    "for (k,v) in sorted(sales_amount.items(),key=lambda x:x[1]):\n",
    "\tprint(k + \":\" + str(v))\n"
   ]
  },
  {
   "cell_type": "code",
   "execution_count": 18,
   "metadata": {},
   "outputs": [
    {
     "name": "stdout",
     "output_type": "stream",
     "text": [
      "5\n"
     ]
    }
   ],
   "source": [
    "print ((lambda x,y:x+y)(2,3)) \n"
   ]
  },
  {
   "cell_type": "code",
   "execution_count": 5,
   "metadata": {},
   "outputs": [
    {
     "name": "stdout",
     "output_type": "stream",
     "text": [
      "Indexing a list 3\n",
      "x is: 3\n",
      "y is: 4\n"
     ]
    }
   ],
   "source": [
    "a=(2,3,4,5)\n",
    "print(\"Indexing a list\",a[1])\n",
    "w,x,y,z = a\n",
    "print(\"x is:\",x)\n",
    "print(\"y is:\",y)"
   ]
  },
  {
   "cell_type": "code",
   "execution_count": null,
   "metadata": {},
   "outputs": [],
   "source": []
  },
  {
   "cell_type": "code",
   "execution_count": null,
   "metadata": {},
   "outputs": [],
   "source": []
  }
 ],
 "metadata": {
  "kernelspec": {
   "name": "pycharm-c482217f",
   "language": "python",
   "display_name": "PyCharm (biyoprogramming)"
  },
  "language_info": {
   "codemirror_mode": {
    "name": "ipython",
    "version": 3
   },
   "file_extension": ".py",
   "mimetype": "text/x-python",
   "name": "python",
   "nbconvert_exporter": "python",
   "pygments_lexer": "ipython3",
   "version": "3.8.5"
  }
 },
 "nbformat": 4,
 "nbformat_minor": 4
}